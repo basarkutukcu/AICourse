{
 "cells": [
  {
   "cell_type": "code",
   "execution_count": 1,
   "metadata": {},
   "outputs": [],
   "source": [
    "import tensorflow as tf\n",
    "from tensorflow.keras.models import Sequential\n",
    "from tensorflow.keras.layers import Conv2D, MaxPooling2D,Dropout, Flatten, Dense\n",
    "from tensorflow.keras.datasets import mnist\n",
    "from tensorflow.keras.layers import Dense, Activation, BatchNormalization\n",
    "from tensorflow.keras.constraints import min_max_norm\n",
    "from tensorflow.keras.optimizers import SGD, Adam\n",
    "from tensorflow.keras import backend as K\n",
    "from tensorflow.keras.callbacks import LearningRateScheduler\n",
    "from tensorflow.keras.initializers import GlorotNormal\n",
    "\n",
    "from envModel import EnvDense, EnvConv2D\n",
    "import sys\n",
    "from tensorflow.keras.models import load_model\n",
    "\n",
    "import matplotlib.pyplot as plt"
   ]
  },
  {
   "cell_type": "code",
   "execution_count": 2,
   "metadata": {},
   "outputs": [
    {
     "name": "stdout",
     "output_type": "stream",
     "text": [
      "tf.__version__ is 2.1.0\n",
      "tf.keras.__version__ is: 2.2.4-tf\n"
     ]
    },
    {
     "name": "stderr",
     "output_type": "stream",
     "text": [
      "Using TensorFlow backend.\n"
     ]
    }
   ],
   "source": [
    "import tensorflow as tf\n",
    "import keras.backend.tensorflow_backend as tfback\n",
    "\n",
    "print(\"tf.__version__ is\", tf.__version__)\n",
    "print(\"tf.keras.__version__ is:\", tf.keras.__version__)\n",
    "\n",
    "def _get_available_gpus():\n",
    "    \"\"\"Get a list of available gpu devices (formatted as strings).\n",
    "\n",
    "    # Returns\n",
    "        A list of available GPU devices.\n",
    "    \"\"\"\n",
    "    #global _LOCAL_DEVICES\n",
    "    if tfback._LOCAL_DEVICES is None:\n",
    "        devices = tf.config.list_logical_devices()\n",
    "        tfback._LOCAL_DEVICES = [x.name for x in devices]\n",
    "    return [x for x in tfback._LOCAL_DEVICES if 'device:gpu' in x.lower()]\n",
    "\n",
    "tfback._get_available_gpus = _get_available_gpus"
   ]
  },
  {
   "cell_type": "code",
   "execution_count": 3,
   "metadata": {},
   "outputs": [],
   "source": [
    "# nn\n",
    "batch_size = 128\n",
    "epochs = 10\n",
    "use_bias = True\n",
    "kernel_init = GlorotNormal()\n",
    "loss_function = 'categorical_crossentropy' #'squared_hinge'\n",
    "\n",
    "# learning rate schedule\n",
    "lr_start = 1e-3\n",
    "lr_end = 1e-4\n",
    "lr_decay = (lr_end / lr_start)**(1. / epochs)"
   ]
  },
  {
   "cell_type": "code",
   "execution_count": 4,
   "metadata": {},
   "outputs": [
    {
     "name": "stdout",
     "output_type": "stream",
     "text": [
      "(60000, 28, 28, 1) train samples\n",
      "(10000, 28, 28, 1) test samples\n"
     ]
    }
   ],
   "source": [
    "#Load the data\n",
    "(X_train, y_train), (X_test, y_test) = mnist.load_data()\n",
    "X_train = X_train.reshape(60000, 28, 28, 1)\n",
    "X_test = X_test.reshape(10000, 28, 28, 1)\n",
    "X_train = X_train.astype('float32')\n",
    "X_test = X_test.astype('float32')\n",
    "X_train /= 255\n",
    "X_test /= 255\n",
    "\n",
    "print(X_train.shape, 'train samples')\n",
    "print(X_test.shape, 'test samples')"
   ]
  },
  {
   "cell_type": "code",
   "execution_count": 5,
   "metadata": {},
   "outputs": [
    {
     "name": "stdout",
     "output_type": "stream",
     "text": [
      "60000 train samples\n",
      "10000 test samples\n"
     ]
    }
   ],
   "source": [
    "print(X_train.shape[0], 'train samples')\n",
    "print(X_test.shape[0], 'test samples')\n",
    "\n",
    "#one-hot encoding\n",
    "y_train = tf.keras.utils.to_categorical(y_train, 10) # * 2 - 1\n",
    "y_test = tf.keras.utils.to_categorical(y_test, 10) # * 2 - 1"
   ]
  },
  {
   "cell_type": "code",
   "execution_count": 6,
   "metadata": {},
   "outputs": [
    {
     "name": "stdout",
     "output_type": "stream",
     "text": [
      "Model: \"sequential\"\n",
      "_________________________________________________________________\n",
      "Layer (type)                 Output Shape              Param #   \n",
      "=================================================================\n",
      "env_conv2d (EnvConv2D)       (None, 24, 24, 32)        832       \n",
      "_________________________________________________________________\n",
      "batch_normalization (BatchNo (None, 24, 24, 32)        128       \n",
      "_________________________________________________________________\n",
      "activation (Activation)      (None, 24, 24, 32)        0         \n",
      "_________________________________________________________________\n",
      "max_pooling2d (MaxPooling2D) (None, 12, 12, 32)        0         \n",
      "_________________________________________________________________\n",
      "env_conv2d_1 (EnvConv2D)     (None, 8, 8, 64)          51264     \n",
      "_________________________________________________________________\n",
      "batch_normalization_1 (Batch (None, 8, 8, 64)          256       \n",
      "_________________________________________________________________\n",
      "activation_1 (Activation)    (None, 8, 8, 64)          0         \n",
      "_________________________________________________________________\n",
      "max_pooling2d_1 (MaxPooling2 (None, 4, 4, 64)          0         \n",
      "_________________________________________________________________\n",
      "flatten (Flatten)            (None, 1024)              0         \n",
      "_________________________________________________________________\n",
      "env_dense (EnvDense)         (None, 512)               524800    \n",
      "_________________________________________________________________\n",
      "batch_normalization_2 (Batch (None, 512)               2048      \n",
      "_________________________________________________________________\n",
      "activation_2 (Activation)    (None, 512)               0         \n",
      "_________________________________________________________________\n",
      "env_dense_1 (EnvDense)       (None, 10)                5130      \n",
      "_________________________________________________________________\n",
      "batch_normalization_3 (Batch (None, 10)                40        \n",
      "_________________________________________________________________\n",
      "activation_3 (Activation)    (None, 10)                0         \n",
      "=================================================================\n",
      "Total params: 584,498\n",
      "Trainable params: 583,262\n",
      "Non-trainable params: 1,236\n",
      "_________________________________________________________________\n",
      "None\n"
     ]
    }
   ],
   "source": [
    "model = Sequential()\n",
    "\n",
    "model.add(EnvConv2D(32,8, kernel_size=(5,5), kernel_initializer=kernel_init,\n",
    "                    input_shape=X_train.shape[1:]))\n",
    "model.add(BatchNormalization(epsilon=1e-5, momentum=0.99))\n",
    "model.add(Activation('relu'))\n",
    "model.add(MaxPooling2D(pool_size=(2, 2)))\n",
    "\n",
    "model.add(EnvConv2D(64,8, kernel_size=(5,5), kernel_initializer=kernel_init))\n",
    "model.add(BatchNormalization(epsilon=1e-5, momentum=0.99))\n",
    "model.add(Activation('relu'))\n",
    "model.add(MaxPooling2D(pool_size=(2, 2)))\n",
    "\n",
    "model.add(Flatten())\n",
    "model.add(EnvDense(512,8, kernel_initializer=kernel_init))\n",
    "model.add(BatchNormalization(epsilon=1e-5, momentum=0.99))\n",
    "model.add(Activation('relu'))\n",
    "\n",
    "model.add(EnvDense(10,8, kernel_initializer=kernel_init))\n",
    "model.add(BatchNormalization(epsilon=1e-5, momentum=0.99))\n",
    "model.add(Activation('softmax'))\n",
    "\n",
    "# Printing the model\n",
    "print(model.summary())\n",
    "\n",
    "opt = Adam(lr=lr_start)"
   ]
  },
  {
   "cell_type": "code",
   "execution_count": 7,
   "metadata": {},
   "outputs": [],
   "source": [
    "# Step 3: Compile the Model\n",
    "model.compile(loss=loss_function,optimizer=opt,metrics=['accuracy'])\n",
    "\n",
    "lr_scheduler = LearningRateScheduler(lambda e: lr_start * lr_decay ** e)"
   ]
  },
  {
   "cell_type": "code",
   "execution_count": null,
   "metadata": {},
   "outputs": [
    {
     "name": "stdout",
     "output_type": "stream",
     "text": [
      "Train on 60000 samples, validate on 10000 samples\n",
      "Epoch 1/10\n",
      "60000/60000 [==============================] - 8s 140us/sample - loss: 0.3154 - accuracy: 0.9763 - val_loss: 0.5957 - val_accuracy: 0.8850\n",
      "Epoch 2/10\n",
      "60000/60000 [==============================] - 5s 90us/sample - loss: 0.1353 - accuracy: 0.9925 - val_loss: 0.1035 - val_accuracy: 0.9924\n",
      "Epoch 3/10\n",
      " 5888/60000 [=>............................] - ETA: 4s - loss: 0.0942 - accuracy: 0.9963"
     ]
    }
   ],
   "source": [
    "# Step 4: Train the Model\n",
    "\n",
    "history = model.fit(X_train,y_train,epochs=epochs,batch_size=128,\n",
    "                    validation_data=(X_test,y_test),verbose=1,callbacks=[lr_scheduler])"
   ]
  },
  {
   "cell_type": "code",
   "execution_count": null,
   "metadata": {},
   "outputs": [],
   "source": [
    "import sys\n",
    "sys.path.insert(1, r\"C:\\Users\\basar\\Desktop\\MSDegree\\Thesis\\Experiments\\QuantCode\")\n",
    "import Utils as uts\n",
    "import matplotlib.pyplot as plt\n",
    "uts.plotHistory(history)"
   ]
  },
  {
   "cell_type": "code",
   "execution_count": null,
   "metadata": {},
   "outputs": [],
   "source": [
    "# Step 5: Evaluate the Model\n",
    "loss,accuracy = model.evaluate(X_test,y_test)\n",
    "print(\"Loss = \",loss)\n",
    "print(\"Accuracy = \",accuracy)"
   ]
  },
  {
   "cell_type": "code",
   "execution_count": null,
   "metadata": {},
   "outputs": [],
   "source": [
    "model.save_weights('mnistBase.h5')"
   ]
  },
  {
   "cell_type": "code",
   "execution_count": 33,
   "metadata": {},
   "outputs": [],
   "source": [
    "def getStates(model, curInd, inds):\n",
    "    states = []\n",
    "    states.append(curInd)\n",
    "    for i in inds:\n",
    "        l = model.get_layer(index = i)\n",
    "        states.append(l.getK())\n",
    "    return states"
   ]
  },
  {
   "cell_type": "code",
   "execution_count": 34,
   "metadata": {},
   "outputs": [],
   "source": [
    "inds = [0,4,9,12]\n",
    "x = getStates(model,9,inds)"
   ]
  },
  {
   "cell_type": "code",
   "execution_count": 35,
   "metadata": {},
   "outputs": [
    {
     "data": {
      "text/plain": [
       "[9, 4, 4, 5, 7]"
      ]
     },
     "execution_count": 35,
     "metadata": {},
     "output_type": "execute_result"
    }
   ],
   "source": [
    "x"
   ]
  },
  {
   "cell_type": "code",
   "execution_count": 40,
   "metadata": {},
   "outputs": [],
   "source": [
    "#construct state space\n",
    "states = []\n",
    "for currLayer in range(4):\n",
    "    for l0 in range(2,8):\n",
    "        for l1 in range(2,8):\n",
    "            for l2 in range(2,8):\n",
    "                for l3 in range(2,8):\n",
    "                    states.append((currLayer,l0,l1,l2,l3))\n",
    "\n",
    "Q = {}\n",
    "for s in states:\n",
    "    for a in range(2,8):\n",
    "        Q[s, a] = 0"
   ]
  },
  {
   "cell_type": "code",
   "execution_count": 39,
   "metadata": {},
   "outputs": [],
   "source": [
    "l = model.get_layer(index=9)"
   ]
  },
  {
   "cell_type": "code",
   "execution_count": 40,
   "metadata": {},
   "outputs": [
    {
     "data": {
      "text/plain": [
       "(1024, 512)"
      ]
     },
     "execution_count": 40,
     "metadata": {},
     "output_type": "execute_result"
    }
   ],
   "source": [
    "l.get_weights()[0].shape"
   ]
  },
  {
   "cell_type": "code",
   "execution_count": 41,
   "metadata": {},
   "outputs": [],
   "source": [
    "x = l.get_weights()[0].shape"
   ]
  },
  {
   "cell_type": "code",
   "execution_count": 44,
   "metadata": {},
   "outputs": [
    {
     "data": {
      "text/plain": [
       "512"
      ]
     },
     "execution_count": 44,
     "metadata": {},
     "output_type": "execute_result"
    }
   ],
   "source": [
    "x[1]"
   ]
  },
  {
   "cell_type": "code",
   "execution_count": 36,
   "metadata": {},
   "outputs": [
    {
     "name": "stdout",
     "output_type": "stream",
     "text": [
      "4\n"
     ]
    }
   ],
   "source": [
    "import numpy as np\n",
    "a = np.squeeze(np.shape(x))\n",
    "print(a)"
   ]
  },
  {
   "cell_type": "code",
   "execution_count": 37,
   "metadata": {},
   "outputs": [
    {
     "name": "stdout",
     "output_type": "stream",
     "text": [
      "asd\n"
     ]
    }
   ],
   "source": [
    "if a==4:\n",
    "    print('asd')"
   ]
  },
  {
   "cell_type": "code",
   "execution_count": 28,
   "metadata": {},
   "outputs": [],
   "source": [
    "l1 = model.get_layer(name='env_conv2d')\n",
    "l1.setK(4)\n",
    "l1 = model.get_layer(name='env_conv2d_1')\n",
    "l1.setK(4)\n",
    "l1 = model.get_layer(name='env_dense')\n",
    "l1.setK(5)\n",
    "l1 = model.get_layer(name='env_dense_1')\n",
    "l1.setK(7)"
   ]
  },
  {
   "cell_type": "code",
   "execution_count": 29,
   "metadata": {},
   "outputs": [],
   "source": [
    "model.compile(loss=loss_function,optimizer=opt,metrics=['accuracy'])"
   ]
  },
  {
   "cell_type": "code",
   "execution_count": 18,
   "metadata": {},
   "outputs": [],
   "source": [
    "def clip(x):\n",
    "    return tf.math.maximum(-1.,tf.math.minimum(1.,x))\n",
    "\n",
    "def quantize(ri, k):\n",
    "    level = tf.math.pow(2., k) - 1.\n",
    "    ro = (1. / level) * tf.math.round(level * ri)\n",
    "    return ri + tf.stop_gradient(ro - ri)\n",
    "def quantOpt(x):\n",
    "    xc = clip(x)\n",
    "    xq = quantize(xc, k=4)\n",
    "    return xq"
   ]
  },
  {
   "cell_type": "code",
   "execution_count": 19,
   "metadata": {},
   "outputs": [
    {
     "data": {
      "image/png": "[encoded data removed]",
      "text/plain": [
       "<Figure size 432x288 with 1 Axes>"
      ]
     },
     "metadata": {
      "needs_background": "light"
     },
     "output_type": "display_data"
    },
    {
     "data": {
      "image/png": "[encoded data removed]",
      "text/plain": [
       "<Figure size 432x288 with 1 Axes>"
      ]
     },
     "metadata": {
      "needs_background": "light"
     },
     "output_type": "display_data"
    },
    {
     "data": {
      "image/png": "[encoded data removed]",
      "text/plain": [
       "<Figure size 432x288 with 1 Axes>"
      ]
     },
     "metadata": {
      "needs_background": "light"
     },
     "output_type": "display_data"
    },
    {
     "data": {
      "image/png": "[encoded data removed]",
      "text/plain": [
       "<Figure size 432x288 with 1 Axes>"
      ]
     },
     "metadata": {
      "needs_background": "light"
     },
     "output_type": "display_data"
    }
   ],
   "source": [
    "rn = -1\n",
    "uts.plotLayer(model,'env_conv2d',rng=rn)\n",
    "uts.plotLayer(model,'env_conv2d_1',rng=rn)\n",
    "uts.plotLayer(model,'env_dense',rng=rn)\n",
    "uts.plotLayer(model,'env_dense_1',rng=rn)"
   ]
  },
  {
   "cell_type": "code",
   "execution_count": 20,
   "metadata": {},
   "outputs": [],
   "source": [
    "import QuantCodes as qc\n",
    "def setwgt(name):\n",
    "    c1 = model.get_layer(name=name).get_weights()    \n",
    "    wb = quantOpt(c1[0])    \n",
    "    c1[0] = wb\n",
    "    model.get_layer(name=name).set_weights(c1)"
   ]
  },
  {
   "cell_type": "code",
   "execution_count": 21,
   "metadata": {},
   "outputs": [],
   "source": [
    "setwgt('env_conv2d')\n",
    "setwgt('env_conv2d_1')\n",
    "setwgt('env_dense')\n",
    "setwgt('env_dense_1')"
   ]
  },
  {
   "cell_type": "code",
   "execution_count": 22,
   "metadata": {},
   "outputs": [
    {
     "data": {
      "image/png": "[encoded data removed]",
      "text/plain": [
       "<Figure size 432x288 with 1 Axes>"
      ]
     },
     "metadata": {
      "needs_background": "light"
     },
     "output_type": "display_data"
    },
    {
     "data": {
      "image/png": "[encoded data removed]",
      "text/plain": [
       "<Figure size 432x288 with 1 Axes>"
      ]
     },
     "metadata": {
      "needs_background": "light"
     },
     "output_type": "display_data"
    },
    {
     "data": {
      "image/png": "[encoded data removed]",
      "text/plain": [
       "<Figure size 432x288 with 1 Axes>"
      ]
     },
     "metadata": {
      "needs_background": "light"
     },
     "output_type": "display_data"
    },
    {
     "data": {
      "image/png": "[encoded data removed]",
      "text/plain": [
       "<Figure size 432x288 with 1 Axes>"
      ]
     },
     "metadata": {
      "needs_background": "light"
     },
     "output_type": "display_data"
    }
   ],
   "source": [
    "rn = -1\n",
    "uts.plotLayer(model,'env_conv2d',rng=rn)\n",
    "uts.plotLayer(model,'env_conv2d_1',rng=rn)\n",
    "uts.plotLayer(model,'env_dense',rng=rn)\n",
    "uts.plotLayer(model,'env_dense_1',rng=rn)"
   ]
  },
  {
   "cell_type": "code",
   "execution_count": 23,
   "metadata": {},
   "outputs": [
    {
     "name": "stdout",
     "output_type": "stream",
     "text": [
      "10000/10000 [==============================] - 1s 132us/sample - loss: 0.3096 - accuracy: 0.9504\n",
      "Loss =  0.3095601429462433\n",
      "Accuracy =  0.9504\n"
     ]
    }
   ],
   "source": [
    "# Step 5: Evaluate the Model\n",
    "loss,accuracy = model.evaluate(X_test,y_test)\n",
    "print(\"Loss = \",loss)\n",
    "print(\"Accuracy = \",accuracy)"
   ]
  },
  {
   "cell_type": "code",
   "execution_count": null,
   "metadata": {},
   "outputs": [],
   "source": [
    "from tensorflow.keras.models import Model\n",
    "layer_name = 'activation'\n",
    "intermediate_layer_model = Model(inputs=model.input,\n",
    "                                 outputs=model.get_layer(layer_name).output)\n",
    "intermediate_output = intermediate_layer_model.predict(X_test)"
   ]
  },
  {
   "cell_type": "code",
   "execution_count": null,
   "metadata": {},
   "outputs": [],
   "source": [
    "intermediate_output"
   ]
  },
  {
   "cell_type": "code",
   "execution_count": null,
   "metadata": {},
   "outputs": [],
   "source": []
  }
 ],
 "metadata": {
  "kernelspec": {
   "display_name": "Python 3",
   "language": "python",
   "name": "python3"
  },
  "language_info": {
   "codemirror_mode": {
    "name": "ipython",
    "version": 3
   },
   "file_extension": ".py",
   "mimetype": "text/x-python",
   "name": "python",
   "nbconvert_exporter": "python",
   "pygments_lexer": "ipython3",
   "version": "3.7.6"
  }
 },
 "nbformat": 4,
 "nbformat_minor": 4
}
